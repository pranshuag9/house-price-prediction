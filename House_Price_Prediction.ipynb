{
 "cells": [
  {
   "cell_type": "code",
   "execution_count": 1,
   "metadata": {},
   "outputs": [],
   "source": [
    "import numpy as np\n",
    "import matplotlib.pyplot as plt\n",
    "import pandas as pd\n",
    "from sklearn.preprocessing import LabelEncoder"
   ]
  },
  {
   "cell_type": "markdown",
   "metadata": {},
   "source": [
    "### Importing Files"
   ]
  },
  {
   "cell_type": "code",
   "execution_count": 2,
   "metadata": {},
   "outputs": [],
   "source": [
    "df_train = pd.read_csv(\"./Dataset/Train/Train_Data.csv\")\n",
    "df_test = pd.read_csv(\"./Dataset/Test/Test_Data.csv\")\n",
    "df_sample = pd.read_csv(\"./Dataset/Test/Sample_House_Price_Submission_File.csv\")"
   ]
  },
  {
   "cell_type": "markdown",
   "metadata": {},
   "source": [
    "# Data Cleaning"
   ]
  },
  {
   "cell_type": "markdown",
   "metadata": {},
   "source": [
    "### Train Data Cleaning"
   ]
  },
  {
   "cell_type": "code",
   "execution_count": 3,
   "metadata": {
    "scrolled": true
   },
   "outputs": [
    {
     "data": {
      "text/html": [
       "<div>\n",
       "<style scoped>\n",
       "    .dataframe tbody tr th:only-of-type {\n",
       "        vertical-align: middle;\n",
       "    }\n",
       "\n",
       "    .dataframe tbody tr th {\n",
       "        vertical-align: top;\n",
       "    }\n",
       "\n",
       "    .dataframe thead th {\n",
       "        text-align: right;\n",
       "    }\n",
       "</style>\n",
       "<table border=\"1\" class=\"dataframe\">\n",
       "  <thead>\n",
       "    <tr style=\"text-align: right;\">\n",
       "      <th></th>\n",
       "      <th>Id</th>\n",
       "      <th>MSSubClass</th>\n",
       "      <th>MSZoning</th>\n",
       "      <th>LotFrontage</th>\n",
       "      <th>LotArea</th>\n",
       "      <th>Street</th>\n",
       "      <th>Alley</th>\n",
       "      <th>LotShape</th>\n",
       "      <th>LandContour</th>\n",
       "      <th>Utilities</th>\n",
       "      <th>...</th>\n",
       "      <th>PoolArea</th>\n",
       "      <th>PoolQC</th>\n",
       "      <th>Fence</th>\n",
       "      <th>MiscFeature</th>\n",
       "      <th>MiscVal</th>\n",
       "      <th>MoSold</th>\n",
       "      <th>YrSold</th>\n",
       "      <th>SaleType</th>\n",
       "      <th>SaleCondition</th>\n",
       "      <th>SalePrice</th>\n",
       "    </tr>\n",
       "  </thead>\n",
       "  <tbody>\n",
       "    <tr>\n",
       "      <th>0</th>\n",
       "      <td>1</td>\n",
       "      <td>60</td>\n",
       "      <td>RL</td>\n",
       "      <td>65.0</td>\n",
       "      <td>8450</td>\n",
       "      <td>Pave</td>\n",
       "      <td>NaN</td>\n",
       "      <td>Reg</td>\n",
       "      <td>Lvl</td>\n",
       "      <td>AllPub</td>\n",
       "      <td>...</td>\n",
       "      <td>0</td>\n",
       "      <td>NaN</td>\n",
       "      <td>NaN</td>\n",
       "      <td>NaN</td>\n",
       "      <td>0</td>\n",
       "      <td>2</td>\n",
       "      <td>2008</td>\n",
       "      <td>WD</td>\n",
       "      <td>Normal</td>\n",
       "      <td>208500</td>\n",
       "    </tr>\n",
       "    <tr>\n",
       "      <th>1</th>\n",
       "      <td>2</td>\n",
       "      <td>20</td>\n",
       "      <td>RL</td>\n",
       "      <td>80.0</td>\n",
       "      <td>9600</td>\n",
       "      <td>Pave</td>\n",
       "      <td>NaN</td>\n",
       "      <td>Reg</td>\n",
       "      <td>Lvl</td>\n",
       "      <td>AllPub</td>\n",
       "      <td>...</td>\n",
       "      <td>0</td>\n",
       "      <td>NaN</td>\n",
       "      <td>NaN</td>\n",
       "      <td>NaN</td>\n",
       "      <td>0</td>\n",
       "      <td>5</td>\n",
       "      <td>2007</td>\n",
       "      <td>WD</td>\n",
       "      <td>Normal</td>\n",
       "      <td>181500</td>\n",
       "    </tr>\n",
       "    <tr>\n",
       "      <th>2</th>\n",
       "      <td>3</td>\n",
       "      <td>60</td>\n",
       "      <td>RL</td>\n",
       "      <td>68.0</td>\n",
       "      <td>11250</td>\n",
       "      <td>Pave</td>\n",
       "      <td>NaN</td>\n",
       "      <td>IR1</td>\n",
       "      <td>Lvl</td>\n",
       "      <td>AllPub</td>\n",
       "      <td>...</td>\n",
       "      <td>0</td>\n",
       "      <td>NaN</td>\n",
       "      <td>NaN</td>\n",
       "      <td>NaN</td>\n",
       "      <td>0</td>\n",
       "      <td>9</td>\n",
       "      <td>2008</td>\n",
       "      <td>WD</td>\n",
       "      <td>Normal</td>\n",
       "      <td>223500</td>\n",
       "    </tr>\n",
       "    <tr>\n",
       "      <th>3</th>\n",
       "      <td>4</td>\n",
       "      <td>70</td>\n",
       "      <td>RL</td>\n",
       "      <td>60.0</td>\n",
       "      <td>9550</td>\n",
       "      <td>Pave</td>\n",
       "      <td>NaN</td>\n",
       "      <td>IR1</td>\n",
       "      <td>Lvl</td>\n",
       "      <td>AllPub</td>\n",
       "      <td>...</td>\n",
       "      <td>0</td>\n",
       "      <td>NaN</td>\n",
       "      <td>NaN</td>\n",
       "      <td>NaN</td>\n",
       "      <td>0</td>\n",
       "      <td>2</td>\n",
       "      <td>2006</td>\n",
       "      <td>WD</td>\n",
       "      <td>Abnorml</td>\n",
       "      <td>140000</td>\n",
       "    </tr>\n",
       "    <tr>\n",
       "      <th>4</th>\n",
       "      <td>5</td>\n",
       "      <td>60</td>\n",
       "      <td>RL</td>\n",
       "      <td>84.0</td>\n",
       "      <td>14260</td>\n",
       "      <td>Pave</td>\n",
       "      <td>NaN</td>\n",
       "      <td>IR1</td>\n",
       "      <td>Lvl</td>\n",
       "      <td>AllPub</td>\n",
       "      <td>...</td>\n",
       "      <td>0</td>\n",
       "      <td>NaN</td>\n",
       "      <td>NaN</td>\n",
       "      <td>NaN</td>\n",
       "      <td>0</td>\n",
       "      <td>12</td>\n",
       "      <td>2008</td>\n",
       "      <td>WD</td>\n",
       "      <td>Normal</td>\n",
       "      <td>250000</td>\n",
       "    </tr>\n",
       "  </tbody>\n",
       "</table>\n",
       "<p>5 rows × 81 columns</p>\n",
       "</div>"
      ],
      "text/plain": [
       "   Id  MSSubClass MSZoning  LotFrontage  LotArea Street Alley LotShape  \\\n",
       "0   1          60       RL         65.0     8450   Pave   NaN      Reg   \n",
       "1   2          20       RL         80.0     9600   Pave   NaN      Reg   \n",
       "2   3          60       RL         68.0    11250   Pave   NaN      IR1   \n",
       "3   4          70       RL         60.0     9550   Pave   NaN      IR1   \n",
       "4   5          60       RL         84.0    14260   Pave   NaN      IR1   \n",
       "\n",
       "  LandContour Utilities    ...     PoolArea PoolQC Fence MiscFeature MiscVal  \\\n",
       "0         Lvl    AllPub    ...            0    NaN   NaN         NaN       0   \n",
       "1         Lvl    AllPub    ...            0    NaN   NaN         NaN       0   \n",
       "2         Lvl    AllPub    ...            0    NaN   NaN         NaN       0   \n",
       "3         Lvl    AllPub    ...            0    NaN   NaN         NaN       0   \n",
       "4         Lvl    AllPub    ...            0    NaN   NaN         NaN       0   \n",
       "\n",
       "  MoSold YrSold  SaleType  SaleCondition  SalePrice  \n",
       "0      2   2008        WD         Normal     208500  \n",
       "1      5   2007        WD         Normal     181500  \n",
       "2      9   2008        WD         Normal     223500  \n",
       "3      2   2006        WD        Abnorml     140000  \n",
       "4     12   2008        WD         Normal     250000  \n",
       "\n",
       "[5 rows x 81 columns]"
      ]
     },
     "execution_count": 3,
     "metadata": {},
     "output_type": "execute_result"
    }
   ],
   "source": [
    "df_train.head()"
   ]
  },
  {
   "cell_type": "code",
   "execution_count": 4,
   "metadata": {},
   "outputs": [
    {
     "name": "stdout",
     "output_type": "stream",
     "text": [
      "<class 'pandas.core.frame.DataFrame'>\n",
      "RangeIndex: 1100 entries, 0 to 1099\n",
      "Data columns (total 81 columns):\n",
      "Id               1100 non-null int64\n",
      "MSSubClass       1100 non-null int64\n",
      "MSZoning         1100 non-null object\n",
      "LotFrontage      908 non-null float64\n",
      "LotArea          1100 non-null int64\n",
      "Street           1100 non-null object\n",
      "Alley            69 non-null object\n",
      "LotShape         1100 non-null object\n",
      "LandContour      1100 non-null object\n",
      "Utilities        1100 non-null object\n",
      "LotConfig        1100 non-null object\n",
      "LandSlope        1100 non-null object\n",
      "Neighborhood     1100 non-null object\n",
      "Condition1       1100 non-null object\n",
      "Condition2       1100 non-null object\n",
      "BldgType         1100 non-null object\n",
      "HouseStyle       1100 non-null object\n",
      "OverallQual      1100 non-null int64\n",
      "OverallCond      1100 non-null int64\n",
      "YearBuilt        1100 non-null int64\n",
      "YearRemodAdd     1100 non-null int64\n",
      "RoofStyle        1100 non-null object\n",
      "RoofMatl         1100 non-null object\n",
      "Exterior1st      1100 non-null object\n",
      "Exterior2nd      1100 non-null object\n",
      "MasVnrType       1094 non-null object\n",
      "MasVnrArea       1094 non-null float64\n",
      "ExterQual        1100 non-null object\n",
      "ExterCond        1100 non-null object\n",
      "Foundation       1100 non-null object\n",
      "BsmtQual         1069 non-null object\n",
      "BsmtCond         1069 non-null object\n",
      "BsmtExposure     1068 non-null object\n",
      "BsmtFinType1     1069 non-null object\n",
      "BsmtFinSF1       1100 non-null int64\n",
      "BsmtFinType2     1068 non-null object\n",
      "BsmtFinSF2       1100 non-null int64\n",
      "BsmtUnfSF        1100 non-null int64\n",
      "TotalBsmtSF      1100 non-null int64\n",
      "Heating          1100 non-null object\n",
      "HeatingQC        1100 non-null object\n",
      "CentralAir       1100 non-null object\n",
      "Electrical       1100 non-null object\n",
      "1stFlrSF         1100 non-null int64\n",
      "2ndFlrSF         1100 non-null int64\n",
      "LowQualFinSF     1100 non-null int64\n",
      "GrLivArea        1100 non-null int64\n",
      "BsmtFullBath     1100 non-null int64\n",
      "BsmtHalfBath     1100 non-null int64\n",
      "FullBath         1100 non-null int64\n",
      "HalfBath         1100 non-null int64\n",
      "BedroomAbvGr     1100 non-null int64\n",
      "KitchenAbvGr     1100 non-null int64\n",
      "KitchenQual      1100 non-null object\n",
      "TotRmsAbvGrd     1100 non-null int64\n",
      "Functional       1100 non-null object\n",
      "Fireplaces       1100 non-null int64\n",
      "FireplaceQu      576 non-null object\n",
      "GarageType       1039 non-null object\n",
      "GarageYrBlt      1039 non-null float64\n",
      "GarageFinish     1039 non-null object\n",
      "GarageCars       1100 non-null int64\n",
      "GarageArea       1100 non-null int64\n",
      "GarageQual       1039 non-null object\n",
      "GarageCond       1039 non-null object\n",
      "PavedDrive       1100 non-null object\n",
      "WoodDeckSF       1100 non-null int64\n",
      "OpenPorchSF      1100 non-null int64\n",
      "EnclosedPorch    1100 non-null int64\n",
      "3SsnPorch        1100 non-null int64\n",
      "ScreenPorch      1100 non-null int64\n",
      "PoolArea         1100 non-null int64\n",
      "PoolQC           2 non-null object\n",
      "Fence            208 non-null object\n",
      "MiscFeature      46 non-null object\n",
      "MiscVal          1100 non-null int64\n",
      "MoSold           1100 non-null int64\n",
      "YrSold           1100 non-null int64\n",
      "SaleType         1100 non-null object\n",
      "SaleCondition    1100 non-null object\n",
      "SalePrice        1100 non-null int64\n",
      "dtypes: float64(3), int64(35), object(43)\n",
      "memory usage: 696.2+ KB\n"
     ]
    }
   ],
   "source": [
    "df_train.info()"
   ]
  },
  {
   "cell_type": "code",
   "execution_count": 5,
   "metadata": {},
   "outputs": [],
   "source": [
    "# Removing Not Useful Columns from the Dataset\n",
    "not_useful = ['Alley','MiscFeature','PoolQC','FireplaceQu','Fence','Id']\n",
    "train_data_clean = df_train.drop(columns=not_useful)"
   ]
  },
  {
   "cell_type": "code",
   "execution_count": 6,
   "metadata": {},
   "outputs": [
    {
     "data": {
      "text/plain": [
       "'Attchd'"
      ]
     },
     "execution_count": 6,
     "metadata": {},
     "output_type": "execute_result"
    }
   ],
   "source": [
    "def getMaxInTrainColumn(fkey):\n",
    "    d = {}\n",
    "    for i in train_data_clean[fkey].values:\n",
    "        if d.get(i) is not None:\n",
    "            d[i] += 1\n",
    "        else:\n",
    "            d[i] = 1\n",
    "    \n",
    "    return max(d,key=d.get)\n",
    "\n",
    "getMaxInTrainColumn('GarageType')"
   ]
  },
  {
   "cell_type": "code",
   "execution_count": 7,
   "metadata": {},
   "outputs": [],
   "source": [
    "train_data_clean['GarageType'] = train_data_clean['GarageType'].fillna(value=getMaxInTrainColumn('GarageType'))"
   ]
  },
  {
   "cell_type": "code",
   "execution_count": 8,
   "metadata": {},
   "outputs": [],
   "source": [
    "train_data_clean['GarageYrBlt'] = train_data_clean['GarageYrBlt'].fillna(train_data_clean['GarageYrBlt'].mean())"
   ]
  },
  {
   "cell_type": "code",
   "execution_count": 9,
   "metadata": {},
   "outputs": [
    {
     "data": {
      "text/plain": [
       "'Unf'"
      ]
     },
     "execution_count": 9,
     "metadata": {},
     "output_type": "execute_result"
    }
   ],
   "source": [
    "getMaxInTrainColumn('GarageFinish')"
   ]
  },
  {
   "cell_type": "code",
   "execution_count": 10,
   "metadata": {},
   "outputs": [],
   "source": [
    "train_data_clean['GarageFinish'] = train_data_clean['GarageFinish'].fillna(value=getMaxInTrainColumn('GarageFinish'))"
   ]
  },
  {
   "cell_type": "code",
   "execution_count": 11,
   "metadata": {},
   "outputs": [
    {
     "data": {
      "text/plain": [
       "'TA'"
      ]
     },
     "execution_count": 11,
     "metadata": {},
     "output_type": "execute_result"
    }
   ],
   "source": [
    "getMaxInTrainColumn('GarageQual')"
   ]
  },
  {
   "cell_type": "code",
   "execution_count": 12,
   "metadata": {},
   "outputs": [],
   "source": [
    "train_data_clean['GarageQual'] = train_data_clean['GarageQual'].fillna(value=getMaxInTrainColumn('GarageQual'))"
   ]
  },
  {
   "cell_type": "code",
   "execution_count": 13,
   "metadata": {},
   "outputs": [],
   "source": [
    "train_data_clean['GarageCond'] = train_data_clean['GarageCond'].fillna(value=getMaxInTrainColumn(\"GarageCond\"))"
   ]
  },
  {
   "cell_type": "code",
   "execution_count": 14,
   "metadata": {},
   "outputs": [
    {
     "data": {
      "text/plain": [
       "'None'"
      ]
     },
     "execution_count": 14,
     "metadata": {},
     "output_type": "execute_result"
    }
   ],
   "source": [
    "getMaxInTrainColumn(\"MasVnrType\")"
   ]
  },
  {
   "cell_type": "code",
   "execution_count": 15,
   "metadata": {},
   "outputs": [],
   "source": [
    "train_data_clean['MasVnrType'] = train_data_clean['MasVnrType'].fillna(value=getMaxInTrainColumn(\"MasVnrType\"))"
   ]
  },
  {
   "cell_type": "code",
   "execution_count": 16,
   "metadata": {},
   "outputs": [],
   "source": [
    "train_data_clean['MasVnrArea'] = train_data_clean['MasVnrArea'].fillna(int(train_data_clean['MasVnrArea'].mean()))"
   ]
  },
  {
   "cell_type": "code",
   "execution_count": 17,
   "metadata": {},
   "outputs": [
    {
     "data": {
      "text/plain": [
       "'Gd'"
      ]
     },
     "execution_count": 17,
     "metadata": {},
     "output_type": "execute_result"
    }
   ],
   "source": [
    "getMaxInTrainColumn(\"BsmtQual\")"
   ]
  },
  {
   "cell_type": "code",
   "execution_count": 18,
   "metadata": {},
   "outputs": [],
   "source": [
    "train_data_clean['BsmtQual'] = train_data_clean[\"BsmtQual\"].fillna(value=getMaxInTrainColumn(\"BsmtQual\"))"
   ]
  },
  {
   "cell_type": "code",
   "execution_count": 19,
   "metadata": {},
   "outputs": [
    {
     "data": {
      "text/plain": [
       "'TA'"
      ]
     },
     "execution_count": 19,
     "metadata": {},
     "output_type": "execute_result"
    }
   ],
   "source": [
    "getMaxInTrainColumn(\"BsmtCond\")"
   ]
  },
  {
   "cell_type": "code",
   "execution_count": 20,
   "metadata": {},
   "outputs": [],
   "source": [
    "train_data_clean['BsmtCond'] = train_data_clean[\"BsmtCond\"].fillna(value=getMaxInTrainColumn(\"BsmtCond\"))"
   ]
  },
  {
   "cell_type": "code",
   "execution_count": 21,
   "metadata": {},
   "outputs": [
    {
     "data": {
      "text/plain": [
       "'No'"
      ]
     },
     "execution_count": 21,
     "metadata": {},
     "output_type": "execute_result"
    }
   ],
   "source": [
    "getMaxInTrainColumn(\"BsmtExposure\")"
   ]
  },
  {
   "cell_type": "code",
   "execution_count": 22,
   "metadata": {},
   "outputs": [],
   "source": [
    "train_data_clean['BsmtExposure'] = train_data_clean['BsmtExposure'].fillna(value=getMaxInTrainColumn(\"BsmtExposure\"))"
   ]
  },
  {
   "cell_type": "code",
   "execution_count": 23,
   "metadata": {},
   "outputs": [
    {
     "data": {
      "text/plain": [
       "'GLQ'"
      ]
     },
     "execution_count": 23,
     "metadata": {},
     "output_type": "execute_result"
    }
   ],
   "source": [
    "getMaxInTrainColumn(\"BsmtFinType1\")"
   ]
  },
  {
   "cell_type": "code",
   "execution_count": 24,
   "metadata": {},
   "outputs": [],
   "source": [
    "train_data_clean['BsmtFinType1'] = train_data_clean['BsmtFinType1'].fillna(value=getMaxInTrainColumn(\"BsmtFinType1\"))"
   ]
  },
  {
   "cell_type": "code",
   "execution_count": 25,
   "metadata": {},
   "outputs": [
    {
     "data": {
      "text/plain": [
       "'Unf'"
      ]
     },
     "execution_count": 25,
     "metadata": {},
     "output_type": "execute_result"
    }
   ],
   "source": [
    "getMaxInTrainColumn(\"BsmtFinType2\")"
   ]
  },
  {
   "cell_type": "code",
   "execution_count": 26,
   "metadata": {},
   "outputs": [],
   "source": [
    "train_data_clean['BsmtFinType2'] = train_data_clean['BsmtFinType2'].fillna(value=getMaxInTrainColumn(\"BsmtFinType2\"))"
   ]
  },
  {
   "cell_type": "code",
   "execution_count": 27,
   "metadata": {},
   "outputs": [],
   "source": [
    "train_data_clean['LotFrontage'] = train_data_clean['LotFrontage'].fillna(int(train_data_clean['LotFrontage'].mean()))"
   ]
  },
  {
   "cell_type": "code",
   "execution_count": 28,
   "metadata": {},
   "outputs": [
    {
     "name": "stdout",
     "output_type": "stream",
     "text": [
      "<class 'pandas.core.frame.DataFrame'>\n",
      "RangeIndex: 1100 entries, 0 to 1099\n",
      "Data columns (total 75 columns):\n",
      "MSSubClass       1100 non-null int64\n",
      "MSZoning         1100 non-null object\n",
      "LotFrontage      1100 non-null float64\n",
      "LotArea          1100 non-null int64\n",
      "Street           1100 non-null object\n",
      "LotShape         1100 non-null object\n",
      "LandContour      1100 non-null object\n",
      "Utilities        1100 non-null object\n",
      "LotConfig        1100 non-null object\n",
      "LandSlope        1100 non-null object\n",
      "Neighborhood     1100 non-null object\n",
      "Condition1       1100 non-null object\n",
      "Condition2       1100 non-null object\n",
      "BldgType         1100 non-null object\n",
      "HouseStyle       1100 non-null object\n",
      "OverallQual      1100 non-null int64\n",
      "OverallCond      1100 non-null int64\n",
      "YearBuilt        1100 non-null int64\n",
      "YearRemodAdd     1100 non-null int64\n",
      "RoofStyle        1100 non-null object\n",
      "RoofMatl         1100 non-null object\n",
      "Exterior1st      1100 non-null object\n",
      "Exterior2nd      1100 non-null object\n",
      "MasVnrType       1100 non-null object\n",
      "MasVnrArea       1100 non-null float64\n",
      "ExterQual        1100 non-null object\n",
      "ExterCond        1100 non-null object\n",
      "Foundation       1100 non-null object\n",
      "BsmtQual         1100 non-null object\n",
      "BsmtCond         1100 non-null object\n",
      "BsmtExposure     1100 non-null object\n",
      "BsmtFinType1     1100 non-null object\n",
      "BsmtFinSF1       1100 non-null int64\n",
      "BsmtFinType2     1100 non-null object\n",
      "BsmtFinSF2       1100 non-null int64\n",
      "BsmtUnfSF        1100 non-null int64\n",
      "TotalBsmtSF      1100 non-null int64\n",
      "Heating          1100 non-null object\n",
      "HeatingQC        1100 non-null object\n",
      "CentralAir       1100 non-null object\n",
      "Electrical       1100 non-null object\n",
      "1stFlrSF         1100 non-null int64\n",
      "2ndFlrSF         1100 non-null int64\n",
      "LowQualFinSF     1100 non-null int64\n",
      "GrLivArea        1100 non-null int64\n",
      "BsmtFullBath     1100 non-null int64\n",
      "BsmtHalfBath     1100 non-null int64\n",
      "FullBath         1100 non-null int64\n",
      "HalfBath         1100 non-null int64\n",
      "BedroomAbvGr     1100 non-null int64\n",
      "KitchenAbvGr     1100 non-null int64\n",
      "KitchenQual      1100 non-null object\n",
      "TotRmsAbvGrd     1100 non-null int64\n",
      "Functional       1100 non-null object\n",
      "Fireplaces       1100 non-null int64\n",
      "GarageType       1100 non-null object\n",
      "GarageYrBlt      1100 non-null float64\n",
      "GarageFinish     1100 non-null object\n",
      "GarageCars       1100 non-null int64\n",
      "GarageArea       1100 non-null int64\n",
      "GarageQual       1100 non-null object\n",
      "GarageCond       1100 non-null object\n",
      "PavedDrive       1100 non-null object\n",
      "WoodDeckSF       1100 non-null int64\n",
      "OpenPorchSF      1100 non-null int64\n",
      "EnclosedPorch    1100 non-null int64\n",
      "3SsnPorch        1100 non-null int64\n",
      "ScreenPorch      1100 non-null int64\n",
      "PoolArea         1100 non-null int64\n",
      "MiscVal          1100 non-null int64\n",
      "MoSold           1100 non-null int64\n",
      "YrSold           1100 non-null int64\n",
      "SaleType         1100 non-null object\n",
      "SaleCondition    1100 non-null object\n",
      "SalePrice        1100 non-null int64\n",
      "dtypes: float64(3), int64(34), object(38)\n",
      "memory usage: 644.6+ KB\n"
     ]
    }
   ],
   "source": [
    "train_data_clean.info()"
   ]
  },
  {
   "cell_type": "code",
   "execution_count": 29,
   "metadata": {},
   "outputs": [],
   "source": [
    "le = LabelEncoder()"
   ]
  },
  {
   "cell_type": "code",
   "execution_count": 30,
   "metadata": {},
   "outputs": [],
   "source": [
    "train_data_clean['MSZoning'] = le.fit_transform(train_data_clean['MSZoning'])"
   ]
  },
  {
   "cell_type": "code",
   "execution_count": 31,
   "metadata": {},
   "outputs": [],
   "source": [
    "train_data_clean['Street'] = le.fit_transform(train_data_clean['Street'])"
   ]
  },
  {
   "cell_type": "code",
   "execution_count": 32,
   "metadata": {},
   "outputs": [],
   "source": [
    "train_data_clean['LotShape'] = le.fit_transform(train_data_clean['LotShape'])"
   ]
  },
  {
   "cell_type": "code",
   "execution_count": 33,
   "metadata": {},
   "outputs": [],
   "source": [
    "train_data_clean['LandContour'] = le.fit_transform(train_data_clean['LandContour'])"
   ]
  },
  {
   "cell_type": "code",
   "execution_count": 34,
   "metadata": {},
   "outputs": [],
   "source": [
    "train_data_clean['Utilities'] = le.fit_transform(train_data_clean['Utilities'])"
   ]
  },
  {
   "cell_type": "code",
   "execution_count": 35,
   "metadata": {},
   "outputs": [],
   "source": [
    "train_data_clean['LotConfig'] = le.fit_transform(train_data_clean['LotConfig'])"
   ]
  },
  {
   "cell_type": "code",
   "execution_count": 36,
   "metadata": {},
   "outputs": [],
   "source": [
    "train_data_clean['LandSlope'] = le.fit_transform(train_data_clean['LandSlope'])"
   ]
  },
  {
   "cell_type": "code",
   "execution_count": 37,
   "metadata": {},
   "outputs": [],
   "source": [
    "train_data_clean['Neighborhood'] = le.fit_transform(train_data_clean['Neighborhood'])"
   ]
  },
  {
   "cell_type": "code",
   "execution_count": 38,
   "metadata": {},
   "outputs": [],
   "source": [
    "train_data_clean['Condition1'] = le.fit_transform(train_data_clean['Condition1'])"
   ]
  },
  {
   "cell_type": "code",
   "execution_count": 39,
   "metadata": {},
   "outputs": [],
   "source": [
    "train_data_clean['Condition2'] = le.fit_transform(train_data_clean['Condition2'])"
   ]
  },
  {
   "cell_type": "code",
   "execution_count": 40,
   "metadata": {},
   "outputs": [],
   "source": [
    "train_data_clean['BldgType'] = le.fit_transform(train_data_clean['BldgType'])"
   ]
  },
  {
   "cell_type": "code",
   "execution_count": 41,
   "metadata": {},
   "outputs": [],
   "source": [
    "train_data_clean['HouseStyle'] = le.fit_transform(train_data_clean['HouseStyle'])"
   ]
  },
  {
   "cell_type": "code",
   "execution_count": 42,
   "metadata": {},
   "outputs": [],
   "source": [
    "train_data_clean['RoofStyle'] = le.fit_transform(train_data_clean['RoofStyle'])"
   ]
  },
  {
   "cell_type": "code",
   "execution_count": 43,
   "metadata": {},
   "outputs": [],
   "source": [
    "train_data_clean['RoofMatl'] = le.fit_transform(train_data_clean['RoofMatl'])"
   ]
  },
  {
   "cell_type": "code",
   "execution_count": 44,
   "metadata": {},
   "outputs": [],
   "source": [
    "train_data_clean['Exterior1st'] = le.fit_transform(train_data_clean['Exterior1st'])"
   ]
  },
  {
   "cell_type": "code",
   "execution_count": 45,
   "metadata": {},
   "outputs": [],
   "source": [
    "train_data_clean['Exterior2nd'] = le.fit_transform(train_data_clean['Exterior2nd'])"
   ]
  },
  {
   "cell_type": "code",
   "execution_count": 46,
   "metadata": {},
   "outputs": [],
   "source": [
    "train_data_clean['MasVnrType'] = le.fit_transform(train_data_clean['MasVnrType'])"
   ]
  },
  {
   "cell_type": "code",
   "execution_count": 47,
   "metadata": {},
   "outputs": [],
   "source": [
    "train_data_clean['ExterQual'] = le.fit_transform(train_data_clean['ExterQual'])"
   ]
  },
  {
   "cell_type": "code",
   "execution_count": 48,
   "metadata": {},
   "outputs": [],
   "source": [
    "train_data_clean['ExterCond'] = le.fit_transform(train_data_clean['ExterCond'])"
   ]
  },
  {
   "cell_type": "code",
   "execution_count": 49,
   "metadata": {},
   "outputs": [],
   "source": [
    "train_data_clean['Foundation'] = le.fit_transform(train_data_clean['Foundation'])"
   ]
  },
  {
   "cell_type": "code",
   "execution_count": 50,
   "metadata": {},
   "outputs": [],
   "source": [
    "train_data_clean['BsmtCond'] = le.fit_transform(train_data_clean['BsmtCond'])"
   ]
  },
  {
   "cell_type": "code",
   "execution_count": 51,
   "metadata": {},
   "outputs": [],
   "source": [
    "train_data_clean['BsmtExposure'] = le.fit_transform(train_data_clean['BsmtExposure'])"
   ]
  },
  {
   "cell_type": "code",
   "execution_count": 52,
   "metadata": {},
   "outputs": [],
   "source": [
    "train_data_clean['BsmtFinType1'] = le.fit_transform(train_data_clean['BsmtFinType1'])"
   ]
  },
  {
   "cell_type": "code",
   "execution_count": 53,
   "metadata": {},
   "outputs": [],
   "source": [
    "train_data_clean['BsmtQual'] = le.fit_transform(train_data_clean['BsmtQual'])"
   ]
  },
  {
   "cell_type": "code",
   "execution_count": 54,
   "metadata": {},
   "outputs": [],
   "source": [
    "train_data_clean['Heating'] = le.fit_transform(train_data_clean['Heating'])"
   ]
  },
  {
   "cell_type": "code",
   "execution_count": 55,
   "metadata": {},
   "outputs": [],
   "source": [
    "train_data_clean['HeatingQC'] = le.fit_transform(train_data_clean['HeatingQC'])"
   ]
  },
  {
   "cell_type": "code",
   "execution_count": 56,
   "metadata": {},
   "outputs": [],
   "source": [
    "train_data_clean['CentralAir'] = le.fit_transform(train_data_clean['CentralAir'])"
   ]
  },
  {
   "cell_type": "code",
   "execution_count": 57,
   "metadata": {},
   "outputs": [],
   "source": [
    "train_data_clean['Electrical'] = le.fit_transform(train_data_clean['Electrical'])"
   ]
  },
  {
   "cell_type": "code",
   "execution_count": 58,
   "metadata": {},
   "outputs": [],
   "source": [
    "train_data_clean['KitchenQual'] = le.fit_transform(train_data_clean['KitchenQual'])"
   ]
  },
  {
   "cell_type": "code",
   "execution_count": 59,
   "metadata": {},
   "outputs": [],
   "source": [
    "train_data_clean['Functional'] = le.fit_transform(train_data_clean['Functional'])"
   ]
  },
  {
   "cell_type": "code",
   "execution_count": 60,
   "metadata": {},
   "outputs": [],
   "source": [
    "train_data_clean['GarageType'] = le.fit_transform(train_data_clean['GarageType'])"
   ]
  },
  {
   "cell_type": "code",
   "execution_count": 61,
   "metadata": {},
   "outputs": [],
   "source": [
    "train_data_clean['GarageFinish'] = le.fit_transform(train_data_clean['GarageFinish'])"
   ]
  },
  {
   "cell_type": "code",
   "execution_count": 62,
   "metadata": {},
   "outputs": [],
   "source": [
    "train_data_clean['PavedDrive'] = le.fit_transform(train_data_clean['PavedDrive'])"
   ]
  },
  {
   "cell_type": "code",
   "execution_count": 63,
   "metadata": {},
   "outputs": [],
   "source": [
    "train_data_clean['GarageCond'] = le.fit_transform(train_data_clean['GarageCond'])"
   ]
  },
  {
   "cell_type": "code",
   "execution_count": 64,
   "metadata": {},
   "outputs": [],
   "source": [
    "train_data_clean['GarageQual'] = le.fit_transform(train_data_clean['GarageQual'])"
   ]
  },
  {
   "cell_type": "code",
   "execution_count": 65,
   "metadata": {},
   "outputs": [],
   "source": [
    "train_data_clean['SaleCondition'] = le.fit_transform(train_data_clean['SaleCondition'])"
   ]
  },
  {
   "cell_type": "code",
   "execution_count": 66,
   "metadata": {},
   "outputs": [],
   "source": [
    "train_data_clean['SaleType'] = le.fit_transform(train_data_clean['SaleType'])"
   ]
  },
  {
   "cell_type": "code",
   "execution_count": 67,
   "metadata": {},
   "outputs": [],
   "source": [
    "train_data_clean['BsmtFinType2'] = le.fit_transform(train_data_clean['BsmtFinType2'])"
   ]
  },
  {
   "cell_type": "code",
   "execution_count": 68,
   "metadata": {},
   "outputs": [
    {
     "name": "stdout",
     "output_type": "stream",
     "text": [
      "<class 'pandas.core.frame.DataFrame'>\n",
      "RangeIndex: 1100 entries, 0 to 1099\n",
      "Data columns (total 75 columns):\n",
      "MSSubClass       1100 non-null int64\n",
      "MSZoning         1100 non-null int64\n",
      "LotFrontage      1100 non-null float64\n",
      "LotArea          1100 non-null int64\n",
      "Street           1100 non-null int64\n",
      "LotShape         1100 non-null int64\n",
      "LandContour      1100 non-null int64\n",
      "Utilities        1100 non-null int64\n",
      "LotConfig        1100 non-null int64\n",
      "LandSlope        1100 non-null int64\n",
      "Neighborhood     1100 non-null int64\n",
      "Condition1       1100 non-null int64\n",
      "Condition2       1100 non-null int64\n",
      "BldgType         1100 non-null int64\n",
      "HouseStyle       1100 non-null int64\n",
      "OverallQual      1100 non-null int64\n",
      "OverallCond      1100 non-null int64\n",
      "YearBuilt        1100 non-null int64\n",
      "YearRemodAdd     1100 non-null int64\n",
      "RoofStyle        1100 non-null int64\n",
      "RoofMatl         1100 non-null int64\n",
      "Exterior1st      1100 non-null int64\n",
      "Exterior2nd      1100 non-null int64\n",
      "MasVnrType       1100 non-null int64\n",
      "MasVnrArea       1100 non-null float64\n",
      "ExterQual        1100 non-null int64\n",
      "ExterCond        1100 non-null int64\n",
      "Foundation       1100 non-null int64\n",
      "BsmtQual         1100 non-null int64\n",
      "BsmtCond         1100 non-null int64\n",
      "BsmtExposure     1100 non-null int64\n",
      "BsmtFinType1     1100 non-null int64\n",
      "BsmtFinSF1       1100 non-null int64\n",
      "BsmtFinType2     1100 non-null int64\n",
      "BsmtFinSF2       1100 non-null int64\n",
      "BsmtUnfSF        1100 non-null int64\n",
      "TotalBsmtSF      1100 non-null int64\n",
      "Heating          1100 non-null int64\n",
      "HeatingQC        1100 non-null int64\n",
      "CentralAir       1100 non-null int64\n",
      "Electrical       1100 non-null int64\n",
      "1stFlrSF         1100 non-null int64\n",
      "2ndFlrSF         1100 non-null int64\n",
      "LowQualFinSF     1100 non-null int64\n",
      "GrLivArea        1100 non-null int64\n",
      "BsmtFullBath     1100 non-null int64\n",
      "BsmtHalfBath     1100 non-null int64\n",
      "FullBath         1100 non-null int64\n",
      "HalfBath         1100 non-null int64\n",
      "BedroomAbvGr     1100 non-null int64\n",
      "KitchenAbvGr     1100 non-null int64\n",
      "KitchenQual      1100 non-null int64\n",
      "TotRmsAbvGrd     1100 non-null int64\n",
      "Functional       1100 non-null int64\n",
      "Fireplaces       1100 non-null int64\n",
      "GarageType       1100 non-null int64\n",
      "GarageYrBlt      1100 non-null float64\n",
      "GarageFinish     1100 non-null int64\n",
      "GarageCars       1100 non-null int64\n",
      "GarageArea       1100 non-null int64\n",
      "GarageQual       1100 non-null int64\n",
      "GarageCond       1100 non-null int64\n",
      "PavedDrive       1100 non-null int64\n",
      "WoodDeckSF       1100 non-null int64\n",
      "OpenPorchSF      1100 non-null int64\n",
      "EnclosedPorch    1100 non-null int64\n",
      "3SsnPorch        1100 non-null int64\n",
      "ScreenPorch      1100 non-null int64\n",
      "PoolArea         1100 non-null int64\n",
      "MiscVal          1100 non-null int64\n",
      "MoSold           1100 non-null int64\n",
      "YrSold           1100 non-null int64\n",
      "SaleType         1100 non-null int64\n",
      "SaleCondition    1100 non-null int64\n",
      "SalePrice        1100 non-null int64\n",
      "dtypes: float64(3), int64(72)\n",
      "memory usage: 644.6 KB\n"
     ]
    }
   ],
   "source": [
    "train_data_clean.info()"
   ]
  },
  {
   "cell_type": "markdown",
   "metadata": {},
   "source": [
    "### Test Data Cleaning"
   ]
  },
  {
   "cell_type": "code",
   "execution_count": 69,
   "metadata": {},
   "outputs": [],
   "source": [
    "# Removing Not Useful Columns from the Dataset\n",
    "not_useful = ['Alley','MiscFeature','PoolQC','FireplaceQu','Fence','Id']\n",
    "test_data_clean = df_test.drop(columns=not_useful)"
   ]
  },
  {
   "cell_type": "code",
   "execution_count": 70,
   "metadata": {},
   "outputs": [
    {
     "data": {
      "text/plain": [
       "'Attchd'"
      ]
     },
     "execution_count": 70,
     "metadata": {},
     "output_type": "execute_result"
    }
   ],
   "source": [
    "def getMaxInTestColumn(fkey):\n",
    "    d = {}\n",
    "    for i in test_data_clean[fkey].values:\n",
    "        if d.get(i) is not None:\n",
    "            d[i] += 1\n",
    "        else:\n",
    "            d[i] = 1\n",
    "    \n",
    "    return max(d,key=d.get)\n",
    "\n",
    "getMaxInTestColumn('GarageType')"
   ]
  },
  {
   "cell_type": "code",
   "execution_count": 71,
   "metadata": {},
   "outputs": [
    {
     "data": {
      "text/html": [
       "<div>\n",
       "<style scoped>\n",
       "    .dataframe tbody tr th:only-of-type {\n",
       "        vertical-align: middle;\n",
       "    }\n",
       "\n",
       "    .dataframe tbody tr th {\n",
       "        vertical-align: top;\n",
       "    }\n",
       "\n",
       "    .dataframe thead th {\n",
       "        text-align: right;\n",
       "    }\n",
       "</style>\n",
       "<table border=\"1\" class=\"dataframe\">\n",
       "  <thead>\n",
       "    <tr style=\"text-align: right;\">\n",
       "      <th></th>\n",
       "      <th>MSSubClass</th>\n",
       "      <th>MSZoning</th>\n",
       "      <th>LotFrontage</th>\n",
       "      <th>LotArea</th>\n",
       "      <th>Street</th>\n",
       "      <th>LotShape</th>\n",
       "      <th>LandContour</th>\n",
       "      <th>Utilities</th>\n",
       "      <th>LotConfig</th>\n",
       "      <th>LandSlope</th>\n",
       "      <th>...</th>\n",
       "      <th>OpenPorchSF</th>\n",
       "      <th>EnclosedPorch</th>\n",
       "      <th>3SsnPorch</th>\n",
       "      <th>ScreenPorch</th>\n",
       "      <th>PoolArea</th>\n",
       "      <th>MiscVal</th>\n",
       "      <th>MoSold</th>\n",
       "      <th>YrSold</th>\n",
       "      <th>SaleType</th>\n",
       "      <th>SaleCondition</th>\n",
       "    </tr>\n",
       "  </thead>\n",
       "  <tbody>\n",
       "    <tr>\n",
       "      <th>0</th>\n",
       "      <td>30</td>\n",
       "      <td>RL</td>\n",
       "      <td>60.0</td>\n",
       "      <td>8400</td>\n",
       "      <td>Pave</td>\n",
       "      <td>Reg</td>\n",
       "      <td>Bnk</td>\n",
       "      <td>AllPub</td>\n",
       "      <td>Inside</td>\n",
       "      <td>Gtl</td>\n",
       "      <td>...</td>\n",
       "      <td>0</td>\n",
       "      <td>0</td>\n",
       "      <td>0</td>\n",
       "      <td>0</td>\n",
       "      <td>0</td>\n",
       "      <td>0</td>\n",
       "      <td>1</td>\n",
       "      <td>2009</td>\n",
       "      <td>WD</td>\n",
       "      <td>Normal</td>\n",
       "    </tr>\n",
       "    <tr>\n",
       "      <th>1</th>\n",
       "      <td>20</td>\n",
       "      <td>RL</td>\n",
       "      <td>61.0</td>\n",
       "      <td>9758</td>\n",
       "      <td>Pave</td>\n",
       "      <td>IR1</td>\n",
       "      <td>Lvl</td>\n",
       "      <td>AllPub</td>\n",
       "      <td>Inside</td>\n",
       "      <td>Gtl</td>\n",
       "      <td>...</td>\n",
       "      <td>0</td>\n",
       "      <td>0</td>\n",
       "      <td>0</td>\n",
       "      <td>0</td>\n",
       "      <td>0</td>\n",
       "      <td>0</td>\n",
       "      <td>7</td>\n",
       "      <td>2007</td>\n",
       "      <td>WD</td>\n",
       "      <td>Normal</td>\n",
       "    </tr>\n",
       "    <tr>\n",
       "      <th>2</th>\n",
       "      <td>20</td>\n",
       "      <td>RL</td>\n",
       "      <td>70.0</td>\n",
       "      <td>7000</td>\n",
       "      <td>Pave</td>\n",
       "      <td>Reg</td>\n",
       "      <td>Lvl</td>\n",
       "      <td>AllPub</td>\n",
       "      <td>Inside</td>\n",
       "      <td>Gtl</td>\n",
       "      <td>...</td>\n",
       "      <td>16</td>\n",
       "      <td>0</td>\n",
       "      <td>0</td>\n",
       "      <td>0</td>\n",
       "      <td>0</td>\n",
       "      <td>0</td>\n",
       "      <td>4</td>\n",
       "      <td>2007</td>\n",
       "      <td>WD</td>\n",
       "      <td>Family</td>\n",
       "    </tr>\n",
       "    <tr>\n",
       "      <th>3</th>\n",
       "      <td>20</td>\n",
       "      <td>RL</td>\n",
       "      <td>79.0</td>\n",
       "      <td>8910</td>\n",
       "      <td>Pave</td>\n",
       "      <td>Reg</td>\n",
       "      <td>Lvl</td>\n",
       "      <td>AllPub</td>\n",
       "      <td>Corner</td>\n",
       "      <td>Gtl</td>\n",
       "      <td>...</td>\n",
       "      <td>0</td>\n",
       "      <td>192</td>\n",
       "      <td>0</td>\n",
       "      <td>0</td>\n",
       "      <td>0</td>\n",
       "      <td>0</td>\n",
       "      <td>7</td>\n",
       "      <td>2006</td>\n",
       "      <td>WD</td>\n",
       "      <td>Normal</td>\n",
       "    </tr>\n",
       "    <tr>\n",
       "      <th>4</th>\n",
       "      <td>160</td>\n",
       "      <td>RM</td>\n",
       "      <td>24.0</td>\n",
       "      <td>2016</td>\n",
       "      <td>Pave</td>\n",
       "      <td>Reg</td>\n",
       "      <td>Lvl</td>\n",
       "      <td>AllPub</td>\n",
       "      <td>Inside</td>\n",
       "      <td>Gtl</td>\n",
       "      <td>...</td>\n",
       "      <td>0</td>\n",
       "      <td>0</td>\n",
       "      <td>0</td>\n",
       "      <td>0</td>\n",
       "      <td>0</td>\n",
       "      <td>0</td>\n",
       "      <td>4</td>\n",
       "      <td>2007</td>\n",
       "      <td>WD</td>\n",
       "      <td>Normal</td>\n",
       "    </tr>\n",
       "  </tbody>\n",
       "</table>\n",
       "<p>5 rows × 74 columns</p>\n",
       "</div>"
      ],
      "text/plain": [
       "   MSSubClass MSZoning  LotFrontage  LotArea Street LotShape LandContour  \\\n",
       "0          30       RL         60.0     8400   Pave      Reg         Bnk   \n",
       "1          20       RL         61.0     9758   Pave      IR1         Lvl   \n",
       "2          20       RL         70.0     7000   Pave      Reg         Lvl   \n",
       "3          20       RL         79.0     8910   Pave      Reg         Lvl   \n",
       "4         160       RM         24.0     2016   Pave      Reg         Lvl   \n",
       "\n",
       "  Utilities LotConfig LandSlope      ...      OpenPorchSF EnclosedPorch  \\\n",
       "0    AllPub    Inside       Gtl      ...                0             0   \n",
       "1    AllPub    Inside       Gtl      ...                0             0   \n",
       "2    AllPub    Inside       Gtl      ...               16             0   \n",
       "3    AllPub    Corner       Gtl      ...                0           192   \n",
       "4    AllPub    Inside       Gtl      ...                0             0   \n",
       "\n",
       "  3SsnPorch ScreenPorch PoolArea  MiscVal  MoSold  YrSold  SaleType  \\\n",
       "0         0           0        0        0       1    2009        WD   \n",
       "1         0           0        0        0       7    2007        WD   \n",
       "2         0           0        0        0       4    2007        WD   \n",
       "3         0           0        0        0       7    2006        WD   \n",
       "4         0           0        0        0       4    2007        WD   \n",
       "\n",
       "  SaleCondition  \n",
       "0        Normal  \n",
       "1        Normal  \n",
       "2        Family  \n",
       "3        Normal  \n",
       "4        Normal  \n",
       "\n",
       "[5 rows x 74 columns]"
      ]
     },
     "execution_count": 71,
     "metadata": {},
     "output_type": "execute_result"
    }
   ],
   "source": [
    "test_data_clean.head()"
   ]
  },
  {
   "cell_type": "code",
   "execution_count": 72,
   "metadata": {},
   "outputs": [
    {
     "name": "stdout",
     "output_type": "stream",
     "text": [
      "<class 'pandas.core.frame.DataFrame'>\n",
      "RangeIndex: 360 entries, 0 to 359\n",
      "Data columns (total 74 columns):\n",
      "MSSubClass       360 non-null int64\n",
      "MSZoning         360 non-null object\n",
      "LotFrontage      293 non-null float64\n",
      "LotArea          360 non-null int64\n",
      "Street           360 non-null object\n",
      "LotShape         360 non-null object\n",
      "LandContour      360 non-null object\n",
      "Utilities        360 non-null object\n",
      "LotConfig        360 non-null object\n",
      "LandSlope        360 non-null object\n",
      "Neighborhood     360 non-null object\n",
      "Condition1       360 non-null object\n",
      "Condition2       360 non-null object\n",
      "BldgType         360 non-null object\n",
      "HouseStyle       360 non-null object\n",
      "OverallQual      360 non-null int64\n",
      "OverallCond      360 non-null int64\n",
      "YearBuilt        360 non-null int64\n",
      "YearRemodAdd     360 non-null int64\n",
      "RoofStyle        360 non-null object\n",
      "RoofMatl         360 non-null object\n",
      "Exterior1st      360 non-null object\n",
      "Exterior2nd      360 non-null object\n",
      "MasVnrType       358 non-null object\n",
      "MasVnrArea       358 non-null float64\n",
      "ExterQual        360 non-null object\n",
      "ExterCond        360 non-null object\n",
      "Foundation       360 non-null object\n",
      "BsmtQual         354 non-null object\n",
      "BsmtCond         354 non-null object\n",
      "BsmtExposure     354 non-null object\n",
      "BsmtFinType1     354 non-null object\n",
      "BsmtFinSF1       360 non-null int64\n",
      "BsmtFinType2     354 non-null object\n",
      "BsmtFinSF2       360 non-null int64\n",
      "BsmtUnfSF        360 non-null int64\n",
      "TotalBsmtSF      360 non-null int64\n",
      "Heating          360 non-null object\n",
      "HeatingQC        360 non-null object\n",
      "CentralAir       360 non-null object\n",
      "Electrical       359 non-null object\n",
      "1stFlrSF         360 non-null int64\n",
      "2ndFlrSF         360 non-null int64\n",
      "LowQualFinSF     360 non-null int64\n",
      "GrLivArea        360 non-null int64\n",
      "BsmtFullBath     360 non-null int64\n",
      "BsmtHalfBath     360 non-null int64\n",
      "FullBath         360 non-null int64\n",
      "HalfBath         360 non-null int64\n",
      "BedroomAbvGr     360 non-null int64\n",
      "KitchenAbvGr     360 non-null int64\n",
      "KitchenQual      360 non-null object\n",
      "TotRmsAbvGrd     360 non-null int64\n",
      "Functional       360 non-null object\n",
      "Fireplaces       360 non-null int64\n",
      "GarageType       340 non-null object\n",
      "GarageYrBlt      340 non-null float64\n",
      "GarageFinish     340 non-null object\n",
      "GarageCars       360 non-null int64\n",
      "GarageArea       360 non-null int64\n",
      "GarageQual       340 non-null object\n",
      "GarageCond       340 non-null object\n",
      "PavedDrive       360 non-null object\n",
      "WoodDeckSF       360 non-null int64\n",
      "OpenPorchSF      360 non-null int64\n",
      "EnclosedPorch    360 non-null int64\n",
      "3SsnPorch        360 non-null int64\n",
      "ScreenPorch      360 non-null int64\n",
      "PoolArea         360 non-null int64\n",
      "MiscVal          360 non-null int64\n",
      "MoSold           360 non-null int64\n",
      "YrSold           360 non-null int64\n",
      "SaleType         360 non-null object\n",
      "SaleCondition    360 non-null object\n",
      "dtypes: float64(3), int64(33), object(38)\n",
      "memory usage: 208.2+ KB\n"
     ]
    }
   ],
   "source": [
    "test_data_clean.info()"
   ]
  },
  {
   "cell_type": "code",
   "execution_count": 73,
   "metadata": {},
   "outputs": [],
   "source": [
    "test_data_clean['GarageType'] = test_data_clean['GarageType'].fillna(value=getMaxInTestColumn('GarageType'))"
   ]
  },
  {
   "cell_type": "code",
   "execution_count": 74,
   "metadata": {},
   "outputs": [],
   "source": [
    "test_data_clean['GarageYrBlt'] = test_data_clean['GarageYrBlt'].fillna(test_data_clean['GarageYrBlt'].mean())"
   ]
  },
  {
   "cell_type": "code",
   "execution_count": 75,
   "metadata": {},
   "outputs": [
    {
     "data": {
      "text/plain": [
       "'Unf'"
      ]
     },
     "execution_count": 75,
     "metadata": {},
     "output_type": "execute_result"
    }
   ],
   "source": [
    "getMaxInTestColumn('GarageFinish')"
   ]
  },
  {
   "cell_type": "code",
   "execution_count": 76,
   "metadata": {},
   "outputs": [],
   "source": [
    "test_data_clean['GarageFinish'] = test_data_clean['GarageFinish'].fillna(value=getMaxInTestColumn('GarageFinish'))"
   ]
  },
  {
   "cell_type": "code",
   "execution_count": 77,
   "metadata": {},
   "outputs": [
    {
     "data": {
      "text/plain": [
       "'TA'"
      ]
     },
     "execution_count": 77,
     "metadata": {},
     "output_type": "execute_result"
    }
   ],
   "source": [
    "getMaxInTestColumn('GarageQual')"
   ]
  },
  {
   "cell_type": "code",
   "execution_count": 78,
   "metadata": {},
   "outputs": [],
   "source": [
    "test_data_clean['GarageQual'] = test_data_clean['GarageQual'].fillna(value=getMaxInTestColumn('GarageQual'))"
   ]
  },
  {
   "cell_type": "code",
   "execution_count": 79,
   "metadata": {},
   "outputs": [],
   "source": [
    "test_data_clean['GarageCond'] = test_data_clean['GarageCond'].fillna(value=getMaxInTestColumn(\"GarageCond\"))"
   ]
  },
  {
   "cell_type": "code",
   "execution_count": 80,
   "metadata": {},
   "outputs": [
    {
     "data": {
      "text/plain": [
       "'None'"
      ]
     },
     "execution_count": 80,
     "metadata": {},
     "output_type": "execute_result"
    }
   ],
   "source": [
    "getMaxInTestColumn(\"MasVnrType\")"
   ]
  },
  {
   "cell_type": "code",
   "execution_count": 81,
   "metadata": {},
   "outputs": [],
   "source": [
    "test_data_clean['MasVnrType'] = test_data_clean['MasVnrType'].fillna(value=getMaxInTestColumn(\"MasVnrType\"))"
   ]
  },
  {
   "cell_type": "code",
   "execution_count": 82,
   "metadata": {},
   "outputs": [],
   "source": [
    "test_data_clean['MasVnrArea'] = test_data_clean['MasVnrArea'].fillna(int(test_data_clean['MasVnrArea'].mean()))"
   ]
  },
  {
   "cell_type": "code",
   "execution_count": 83,
   "metadata": {},
   "outputs": [
    {
     "data": {
      "text/plain": [
       "'TA'"
      ]
     },
     "execution_count": 83,
     "metadata": {},
     "output_type": "execute_result"
    }
   ],
   "source": [
    "getMaxInTestColumn(\"BsmtQual\")"
   ]
  },
  {
   "cell_type": "code",
   "execution_count": 84,
   "metadata": {},
   "outputs": [],
   "source": [
    "test_data_clean['BsmtQual'] = test_data_clean[\"BsmtQual\"].fillna(value=getMaxInTestColumn(\"BsmtQual\"))"
   ]
  },
  {
   "cell_type": "code",
   "execution_count": 85,
   "metadata": {},
   "outputs": [
    {
     "data": {
      "text/plain": [
       "'TA'"
      ]
     },
     "execution_count": 85,
     "metadata": {},
     "output_type": "execute_result"
    }
   ],
   "source": [
    "getMaxInTestColumn(\"BsmtCond\")"
   ]
  },
  {
   "cell_type": "code",
   "execution_count": 86,
   "metadata": {},
   "outputs": [],
   "source": [
    "test_data_clean['BsmtCond'] = test_data_clean[\"BsmtCond\"].fillna(value=getMaxInTestColumn(\"BsmtCond\"))"
   ]
  },
  {
   "cell_type": "code",
   "execution_count": 87,
   "metadata": {},
   "outputs": [
    {
     "data": {
      "text/plain": [
       "'No'"
      ]
     },
     "execution_count": 87,
     "metadata": {},
     "output_type": "execute_result"
    }
   ],
   "source": [
    "getMaxInTestColumn(\"BsmtExposure\")"
   ]
  },
  {
   "cell_type": "code",
   "execution_count": 88,
   "metadata": {},
   "outputs": [],
   "source": [
    "test_data_clean['BsmtExposure'] = test_data_clean['BsmtExposure'].fillna(value=getMaxInTestColumn(\"BsmtExposure\"))"
   ]
  },
  {
   "cell_type": "code",
   "execution_count": 89,
   "metadata": {},
   "outputs": [
    {
     "data": {
      "text/plain": [
       "'Unf'"
      ]
     },
     "execution_count": 89,
     "metadata": {},
     "output_type": "execute_result"
    }
   ],
   "source": [
    "getMaxInTestColumn(\"BsmtFinType1\")"
   ]
  },
  {
   "cell_type": "code",
   "execution_count": 90,
   "metadata": {},
   "outputs": [],
   "source": [
    "test_data_clean['BsmtFinType1'] = test_data_clean['BsmtFinType1'].fillna(value=getMaxInTestColumn(\"BsmtFinType1\"))"
   ]
  },
  {
   "cell_type": "code",
   "execution_count": 91,
   "metadata": {},
   "outputs": [
    {
     "data": {
      "text/plain": [
       "'Unf'"
      ]
     },
     "execution_count": 91,
     "metadata": {},
     "output_type": "execute_result"
    }
   ],
   "source": [
    "getMaxInTestColumn(\"BsmtFinType2\")"
   ]
  },
  {
   "cell_type": "code",
   "execution_count": 92,
   "metadata": {},
   "outputs": [],
   "source": [
    "test_data_clean['BsmtFinType2'] = test_data_clean['BsmtFinType2'].fillna(value=getMaxInTestColumn(\"BsmtFinType2\"))"
   ]
  },
  {
   "cell_type": "code",
   "execution_count": 93,
   "metadata": {},
   "outputs": [],
   "source": [
    "test_data_clean['LotFrontage'] = test_data_clean['LotFrontage'].fillna(int(test_data_clean['LotFrontage'].mean()))"
   ]
  },
  {
   "cell_type": "code",
   "execution_count": 94,
   "metadata": {},
   "outputs": [],
   "source": [
    "test_data_clean['Electrical'] = test_data_clean['Electrical'].fillna(value=getMaxInTestColumn(\"Electrical\"))"
   ]
  },
  {
   "cell_type": "code",
   "execution_count": 95,
   "metadata": {},
   "outputs": [
    {
     "name": "stdout",
     "output_type": "stream",
     "text": [
      "<class 'pandas.core.frame.DataFrame'>\n",
      "RangeIndex: 360 entries, 0 to 359\n",
      "Data columns (total 74 columns):\n",
      "MSSubClass       360 non-null int64\n",
      "MSZoning         360 non-null object\n",
      "LotFrontage      360 non-null float64\n",
      "LotArea          360 non-null int64\n",
      "Street           360 non-null object\n",
      "LotShape         360 non-null object\n",
      "LandContour      360 non-null object\n",
      "Utilities        360 non-null object\n",
      "LotConfig        360 non-null object\n",
      "LandSlope        360 non-null object\n",
      "Neighborhood     360 non-null object\n",
      "Condition1       360 non-null object\n",
      "Condition2       360 non-null object\n",
      "BldgType         360 non-null object\n",
      "HouseStyle       360 non-null object\n",
      "OverallQual      360 non-null int64\n",
      "OverallCond      360 non-null int64\n",
      "YearBuilt        360 non-null int64\n",
      "YearRemodAdd     360 non-null int64\n",
      "RoofStyle        360 non-null object\n",
      "RoofMatl         360 non-null object\n",
      "Exterior1st      360 non-null object\n",
      "Exterior2nd      360 non-null object\n",
      "MasVnrType       360 non-null object\n",
      "MasVnrArea       360 non-null float64\n",
      "ExterQual        360 non-null object\n",
      "ExterCond        360 non-null object\n",
      "Foundation       360 non-null object\n",
      "BsmtQual         360 non-null object\n",
      "BsmtCond         360 non-null object\n",
      "BsmtExposure     360 non-null object\n",
      "BsmtFinType1     360 non-null object\n",
      "BsmtFinSF1       360 non-null int64\n",
      "BsmtFinType2     360 non-null object\n",
      "BsmtFinSF2       360 non-null int64\n",
      "BsmtUnfSF        360 non-null int64\n",
      "TotalBsmtSF      360 non-null int64\n",
      "Heating          360 non-null object\n",
      "HeatingQC        360 non-null object\n",
      "CentralAir       360 non-null object\n",
      "Electrical       360 non-null object\n",
      "1stFlrSF         360 non-null int64\n",
      "2ndFlrSF         360 non-null int64\n",
      "LowQualFinSF     360 non-null int64\n",
      "GrLivArea        360 non-null int64\n",
      "BsmtFullBath     360 non-null int64\n",
      "BsmtHalfBath     360 non-null int64\n",
      "FullBath         360 non-null int64\n",
      "HalfBath         360 non-null int64\n",
      "BedroomAbvGr     360 non-null int64\n",
      "KitchenAbvGr     360 non-null int64\n",
      "KitchenQual      360 non-null object\n",
      "TotRmsAbvGrd     360 non-null int64\n",
      "Functional       360 non-null object\n",
      "Fireplaces       360 non-null int64\n",
      "GarageType       360 non-null object\n",
      "GarageYrBlt      360 non-null float64\n",
      "GarageFinish     360 non-null object\n",
      "GarageCars       360 non-null int64\n",
      "GarageArea       360 non-null int64\n",
      "GarageQual       360 non-null object\n",
      "GarageCond       360 non-null object\n",
      "PavedDrive       360 non-null object\n",
      "WoodDeckSF       360 non-null int64\n",
      "OpenPorchSF      360 non-null int64\n",
      "EnclosedPorch    360 non-null int64\n",
      "3SsnPorch        360 non-null int64\n",
      "ScreenPorch      360 non-null int64\n",
      "PoolArea         360 non-null int64\n",
      "MiscVal          360 non-null int64\n",
      "MoSold           360 non-null int64\n",
      "YrSold           360 non-null int64\n",
      "SaleType         360 non-null object\n",
      "SaleCondition    360 non-null object\n",
      "dtypes: float64(3), int64(33), object(38)\n",
      "memory usage: 208.2+ KB\n"
     ]
    }
   ],
   "source": [
    "test_data_clean.info()"
   ]
  },
  {
   "cell_type": "code",
   "execution_count": 96,
   "metadata": {},
   "outputs": [],
   "source": [
    "test_data_clean['MSZoning'] = le.fit_transform(test_data_clean['MSZoning'])\n",
    "test_data_clean['Street'] = le.fit_transform(test_data_clean['Street'])\n",
    "test_data_clean['LotShape'] = le.fit_transform(test_data_clean['LotShape'])\n",
    "test_data_clean['LandContour'] = le.fit_transform(test_data_clean['LandContour'])\n",
    "test_data_clean['Utilities'] = le.fit_transform(test_data_clean['Utilities'])\n",
    "test_data_clean['LotConfig'] = le.fit_transform(test_data_clean['LotConfig'])\n",
    "test_data_clean['LandSlope'] = le.fit_transform(test_data_clean['LandSlope'])\n",
    "test_data_clean['Neighborhood'] = le.fit_transform(test_data_clean['Neighborhood'])\n",
    "test_data_clean['Condition1'] = le.fit_transform(test_data_clean['Condition1'])\n",
    "test_data_clean['Condition2'] = le.fit_transform(test_data_clean['Condition2'])\n",
    "test_data_clean['BldgType'] = le.fit_transform(test_data_clean['BldgType'])\n",
    "test_data_clean['HouseStyle'] = le.fit_transform(test_data_clean['HouseStyle'])\n",
    "test_data_clean['RoofStyle'] = le.fit_transform(test_data_clean['RoofStyle'])\n",
    "test_data_clean['RoofMatl'] = le.fit_transform(test_data_clean['RoofMatl'])\n",
    "test_data_clean['Exterior1st'] = le.fit_transform(test_data_clean['Exterior1st'])\n",
    "test_data_clean['Exterior2nd'] = le.fit_transform(test_data_clean['Exterior2nd'])\n",
    "test_data_clean['MasVnrType'] = le.fit_transform(test_data_clean['MasVnrType'])\n",
    "test_data_clean['ExterQual'] = le.fit_transform(test_data_clean['ExterQual'])\n",
    "test_data_clean['ExterCond'] = le.fit_transform(test_data_clean['ExterCond'])\n",
    "test_data_clean['Foundation'] = le.fit_transform(test_data_clean['Foundation'])\n",
    "test_data_clean['BsmtCond'] = le.fit_transform(test_data_clean['BsmtCond'])\n",
    "test_data_clean['BsmtExposure'] = le.fit_transform(test_data_clean['BsmtExposure'])\n",
    "test_data_clean['BsmtFinType1'] = le.fit_transform(test_data_clean['BsmtFinType1'])\n",
    "test_data_clean['BsmtQual'] = le.fit_transform(test_data_clean['BsmtQual'])\n",
    "test_data_clean['Heating'] = le.fit_transform(test_data_clean['Heating'])\n",
    "test_data_clean['HeatingQC'] = le.fit_transform(test_data_clean['HeatingQC'])\n",
    "test_data_clean['CentralAir'] = le.fit_transform(test_data_clean['CentralAir'])\n",
    "test_data_clean['Electrical'] = le.fit_transform(test_data_clean['Electrical'])\n",
    "test_data_clean['KitchenQual'] = le.fit_transform(test_data_clean['KitchenQual'])\n",
    "test_data_clean['Functional'] = le.fit_transform(test_data_clean['Functional'])\n",
    "test_data_clean['GarageType'] = le.fit_transform(test_data_clean['GarageType'])\n",
    "test_data_clean['GarageFinish'] = le.fit_transform(test_data_clean['GarageFinish'])\n",
    "test_data_clean['PavedDrive'] = le.fit_transform(test_data_clean['PavedDrive'])\n",
    "test_data_clean['GarageCond'] = le.fit_transform(test_data_clean['GarageCond'])\n",
    "test_data_clean['GarageQual'] = le.fit_transform(test_data_clean['GarageQual'])\n",
    "test_data_clean['SaleCondition'] = le.fit_transform(test_data_clean['SaleCondition'])\n",
    "test_data_clean['SaleType'] = le.fit_transform(test_data_clean['SaleType'])\n",
    "test_data_clean['BsmtFinType2'] = le.fit_transform(test_data_clean['BsmtFinType2'])"
   ]
  },
  {
   "cell_type": "code",
   "execution_count": 97,
   "metadata": {},
   "outputs": [
    {
     "name": "stdout",
     "output_type": "stream",
     "text": [
      "<class 'pandas.core.frame.DataFrame'>\n",
      "RangeIndex: 360 entries, 0 to 359\n",
      "Data columns (total 74 columns):\n",
      "MSSubClass       360 non-null int64\n",
      "MSZoning         360 non-null int64\n",
      "LotFrontage      360 non-null float64\n",
      "LotArea          360 non-null int64\n",
      "Street           360 non-null int64\n",
      "LotShape         360 non-null int64\n",
      "LandContour      360 non-null int64\n",
      "Utilities        360 non-null int64\n",
      "LotConfig        360 non-null int64\n",
      "LandSlope        360 non-null int64\n",
      "Neighborhood     360 non-null int64\n",
      "Condition1       360 non-null int64\n",
      "Condition2       360 non-null int64\n",
      "BldgType         360 non-null int64\n",
      "HouseStyle       360 non-null int64\n",
      "OverallQual      360 non-null int64\n",
      "OverallCond      360 non-null int64\n",
      "YearBuilt        360 non-null int64\n",
      "YearRemodAdd     360 non-null int64\n",
      "RoofStyle        360 non-null int64\n",
      "RoofMatl         360 non-null int64\n",
      "Exterior1st      360 non-null int64\n",
      "Exterior2nd      360 non-null int64\n",
      "MasVnrType       360 non-null int64\n",
      "MasVnrArea       360 non-null float64\n",
      "ExterQual        360 non-null int64\n",
      "ExterCond        360 non-null int64\n",
      "Foundation       360 non-null int64\n",
      "BsmtQual         360 non-null int64\n",
      "BsmtCond         360 non-null int64\n",
      "BsmtExposure     360 non-null int64\n",
      "BsmtFinType1     360 non-null int64\n",
      "BsmtFinSF1       360 non-null int64\n",
      "BsmtFinType2     360 non-null int64\n",
      "BsmtFinSF2       360 non-null int64\n",
      "BsmtUnfSF        360 non-null int64\n",
      "TotalBsmtSF      360 non-null int64\n",
      "Heating          360 non-null int64\n",
      "HeatingQC        360 non-null int64\n",
      "CentralAir       360 non-null int64\n",
      "Electrical       360 non-null int64\n",
      "1stFlrSF         360 non-null int64\n",
      "2ndFlrSF         360 non-null int64\n",
      "LowQualFinSF     360 non-null int64\n",
      "GrLivArea        360 non-null int64\n",
      "BsmtFullBath     360 non-null int64\n",
      "BsmtHalfBath     360 non-null int64\n",
      "FullBath         360 non-null int64\n",
      "HalfBath         360 non-null int64\n",
      "BedroomAbvGr     360 non-null int64\n",
      "KitchenAbvGr     360 non-null int64\n",
      "KitchenQual      360 non-null int64\n",
      "TotRmsAbvGrd     360 non-null int64\n",
      "Functional       360 non-null int64\n",
      "Fireplaces       360 non-null int64\n",
      "GarageType       360 non-null int64\n",
      "GarageYrBlt      360 non-null float64\n",
      "GarageFinish     360 non-null int64\n",
      "GarageCars       360 non-null int64\n",
      "GarageArea       360 non-null int64\n",
      "GarageQual       360 non-null int64\n",
      "GarageCond       360 non-null int64\n",
      "PavedDrive       360 non-null int64\n",
      "WoodDeckSF       360 non-null int64\n",
      "OpenPorchSF      360 non-null int64\n",
      "EnclosedPorch    360 non-null int64\n",
      "3SsnPorch        360 non-null int64\n",
      "ScreenPorch      360 non-null int64\n",
      "PoolArea         360 non-null int64\n",
      "MiscVal          360 non-null int64\n",
      "MoSold           360 non-null int64\n",
      "YrSold           360 non-null int64\n",
      "SaleType         360 non-null int64\n",
      "SaleCondition    360 non-null int64\n",
      "dtypes: float64(3), int64(71)\n",
      "memory usage: 208.2 KB\n"
     ]
    }
   ],
   "source": [
    "test_data_clean.info()"
   ]
  },
  {
   "cell_type": "markdown",
   "metadata": {},
   "source": [
    "---"
   ]
  },
  {
   "cell_type": "markdown",
   "metadata": {},
   "source": [
    "### Splitting Data into X_train and Y_train"
   ]
  },
  {
   "cell_type": "code",
   "execution_count": 98,
   "metadata": {},
   "outputs": [],
   "source": [
    "X_train = train_data_clean[train_data_clean.columns.difference(['SalePrice'])]\n",
    "Y_train = train_data_clean[['SalePrice']]"
   ]
  },
  {
   "cell_type": "code",
   "execution_count": 99,
   "metadata": {},
   "outputs": [],
   "source": [
    "X_test = test_data_clean[test_data_clean.columns]"
   ]
  },
  {
   "cell_type": "code",
   "execution_count": 100,
   "metadata": {},
   "outputs": [
    {
     "data": {
      "text/plain": [
       "(1100, 74)"
      ]
     },
     "execution_count": 100,
     "metadata": {},
     "output_type": "execute_result"
    }
   ],
   "source": [
    "X_train.shape"
   ]
  },
  {
   "cell_type": "code",
   "execution_count": 101,
   "metadata": {},
   "outputs": [
    {
     "data": {
      "text/plain": [
       "(360, 74)"
      ]
     },
     "execution_count": 101,
     "metadata": {},
     "output_type": "execute_result"
    }
   ],
   "source": [
    "X_test.shape"
   ]
  },
  {
   "cell_type": "markdown",
   "metadata": {},
   "source": [
    "# Using Multivariate Regression"
   ]
  },
  {
   "cell_type": "code",
   "execution_count": 102,
   "metadata": {},
   "outputs": [],
   "source": [
    "def hypothesis(x,theta):\n",
    "    return np.dot(x,theta.T)\n",
    "\n",
    "def error(X,Y,theta):\n",
    "    m = Y.shape[0]\n",
    "    err = 0\n",
    "    \n",
    "    for i in range(m):\n",
    "        hx = hypothesis(X[i],theta)\n",
    "        err += (hx-Y[i])**2\n",
    "        \n",
    "    return err/2\n",
    "\n",
    "def gradient(X,Y,theta):\n",
    "    grad = np.zeros((X.shape[1],))\n",
    "    m = Y.shape[0]\n",
    "    \n",
    "    for i in range(m):\n",
    "        hx = hypothesis(X[i],theta)\n",
    "        for j in range(X.shape[1]):\n",
    "            grad[j] += ((Y[i]-hx)*X[i][j])\n",
    "    \n",
    "    return grad*0.5\n",
    "\n",
    "def batch_gradient(X,Y,theta,batch_size=1):\n",
    "    m = Y.shape[0]\n",
    "    indices = np.arange(m)\n",
    "    np.random.shuffle(indices)\n",
    "    indices = indices[:batch_size]\n",
    "    grad = np.zeros((X.shape[1],1))\n",
    "    \n",
    "    for i in indices:\n",
    "        hx = hypothesis(X[i],theta)\n",
    "        for j in range(X.shape[1]):\n",
    "            grad[j] += ((Y[i] - hx)*X[i][j])\n",
    "            \n",
    "    return grad*0.5\n",
    "\n",
    "\n",
    "def gradientDescent(X,Y,learning_rate=0.000000000011):\n",
    "    theta = np.zeros((X.shape[1],))\n",
    "    \n",
    "    e = error(X,Y,theta)\n",
    "    de = e\n",
    "    error_list = [e]\n",
    "    itr = 0\n",
    "    \n",
    "    while(itr<=100):\n",
    "        grad = gradient(X,Y,theta)\n",
    "        for j in range(X.shape[1]):\n",
    "            theta[j] = theta[j] + learning_rate*grad[j]\n",
    "        ne = error(X,Y,theta)\n",
    "        \n",
    "        if(itr%10):\n",
    "            error_list.append(ne)\n",
    "        de = ne - e\n",
    "        e = ne\n",
    "        itr += 1\n",
    "        \n",
    "    return theta,error_list"
   ]
  },
  {
   "cell_type": "code",
   "execution_count": 103,
   "metadata": {},
   "outputs": [],
   "source": [
    "data_train = train_data_clean.values"
   ]
  },
  {
   "cell_type": "code",
   "execution_count": 104,
   "metadata": {},
   "outputs": [],
   "source": [
    "x_train = data_train[:,:-1]\n",
    "y_train = data_train[:,-1]"
   ]
  },
  {
   "cell_type": "code",
   "execution_count": 105,
   "metadata": {},
   "outputs": [],
   "source": [
    "data_test = test_data_clean.values"
   ]
  },
  {
   "cell_type": "code",
   "execution_count": 106,
   "metadata": {},
   "outputs": [],
   "source": [
    "x_test = data_test[:,:]"
   ]
  },
  {
   "cell_type": "code",
   "execution_count": 107,
   "metadata": {},
   "outputs": [
    {
     "data": {
      "image/png": "[encoded data removed]",
      "text/plain": [
       "<Figure size 432x288 with 1 Axes>"
      ]
     },
     "metadata": {},
     "output_type": "display_data"
    }
   ],
   "source": [
    "final_theta,error_list = gradientDescent(x_train,y_train)\n",
    "plt.plot(error_list)\n",
    "plt.show()"
   ]
  },
  {
   "cell_type": "code",
   "execution_count": 108,
   "metadata": {},
   "outputs": [],
   "source": [
    "hyp = hypothesis(X_test,final_theta).reshape(-1,1)"
   ]
  },
  {
   "cell_type": "code",
   "execution_count": 109,
   "metadata": {},
   "outputs": [],
   "source": [
    "ids = np.array(df_test['Id']).reshape(-1,1)"
   ]
  },
  {
   "cell_type": "code",
   "execution_count": 110,
   "metadata": {},
   "outputs": [],
   "source": [
    "result = np.hstack((ids,hyp))\n",
    "result = result.astype('int64')"
   ]
  },
  {
   "cell_type": "code",
   "execution_count": 111,
   "metadata": {},
   "outputs": [],
   "source": [
    "df = pd.DataFrame(result,columns=['Id','SalePrice'])"
   ]
  },
  {
   "cell_type": "code",
   "execution_count": 112,
   "metadata": {},
   "outputs": [],
   "source": [
    "df.to_csv(\"./Dataset/submission1.csv\",index=False)"
   ]
  },
  {
   "cell_type": "code",
   "execution_count": 113,
   "metadata": {},
   "outputs": [],
   "source": [
    "df = pd.read_csv(\"./Dataset/submission1.csv\")"
   ]
  },
  {
   "cell_type": "code",
   "execution_count": 114,
   "metadata": {},
   "outputs": [
    {
     "data": {
      "text/html": [
       "<div>\n",
       "<style scoped>\n",
       "    .dataframe tbody tr th:only-of-type {\n",
       "        vertical-align: middle;\n",
       "    }\n",
       "\n",
       "    .dataframe tbody tr th {\n",
       "        vertical-align: top;\n",
       "    }\n",
       "\n",
       "    .dataframe thead th {\n",
       "        text-align: right;\n",
       "    }\n",
       "</style>\n",
       "<table border=\"1\" class=\"dataframe\">\n",
       "  <thead>\n",
       "    <tr style=\"text-align: right;\">\n",
       "      <th></th>\n",
       "      <th>Id</th>\n",
       "      <th>SalePrice</th>\n",
       "    </tr>\n",
       "  </thead>\n",
       "  <tbody>\n",
       "    <tr>\n",
       "      <th>0</th>\n",
       "      <td>1101</td>\n",
       "      <td>127678</td>\n",
       "    </tr>\n",
       "    <tr>\n",
       "      <th>1</th>\n",
       "      <td>1102</td>\n",
       "      <td>160530</td>\n",
       "    </tr>\n",
       "    <tr>\n",
       "      <th>2</th>\n",
       "      <td>1103</td>\n",
       "      <td>167235</td>\n",
       "    </tr>\n",
       "    <tr>\n",
       "      <th>3</th>\n",
       "      <td>1104</td>\n",
       "      <td>165249</td>\n",
       "    </tr>\n",
       "    <tr>\n",
       "      <th>4</th>\n",
       "      <td>1105</td>\n",
       "      <td>156740</td>\n",
       "    </tr>\n",
       "    <tr>\n",
       "      <th>5</th>\n",
       "      <td>1106</td>\n",
       "      <td>232590</td>\n",
       "    </tr>\n",
       "    <tr>\n",
       "      <th>6</th>\n",
       "      <td>1107</td>\n",
       "      <td>183641</td>\n",
       "    </tr>\n",
       "    <tr>\n",
       "      <th>7</th>\n",
       "      <td>1108</td>\n",
       "      <td>206468</td>\n",
       "    </tr>\n",
       "    <tr>\n",
       "      <th>8</th>\n",
       "      <td>1109</td>\n",
       "      <td>182602</td>\n",
       "    </tr>\n",
       "    <tr>\n",
       "      <th>9</th>\n",
       "      <td>1110</td>\n",
       "      <td>220043</td>\n",
       "    </tr>\n",
       "    <tr>\n",
       "      <th>10</th>\n",
       "      <td>1111</td>\n",
       "      <td>177536</td>\n",
       "    </tr>\n",
       "    <tr>\n",
       "      <th>11</th>\n",
       "      <td>1112</td>\n",
       "      <td>193441</td>\n",
       "    </tr>\n",
       "    <tr>\n",
       "      <th>12</th>\n",
       "      <td>1113</td>\n",
       "      <td>152162</td>\n",
       "    </tr>\n",
       "    <tr>\n",
       "      <th>13</th>\n",
       "      <td>1114</td>\n",
       "      <td>164649</td>\n",
       "    </tr>\n",
       "    <tr>\n",
       "      <th>14</th>\n",
       "      <td>1115</td>\n",
       "      <td>151456</td>\n",
       "    </tr>\n",
       "    <tr>\n",
       "      <th>15</th>\n",
       "      <td>1116</td>\n",
       "      <td>216380</td>\n",
       "    </tr>\n",
       "    <tr>\n",
       "      <th>16</th>\n",
       "      <td>1117</td>\n",
       "      <td>163863</td>\n",
       "    </tr>\n",
       "    <tr>\n",
       "      <th>17</th>\n",
       "      <td>1118</td>\n",
       "      <td>161218</td>\n",
       "    </tr>\n",
       "    <tr>\n",
       "      <th>18</th>\n",
       "      <td>1119</td>\n",
       "      <td>176482</td>\n",
       "    </tr>\n",
       "    <tr>\n",
       "      <th>19</th>\n",
       "      <td>1120</td>\n",
       "      <td>164650</td>\n",
       "    </tr>\n",
       "    <tr>\n",
       "      <th>20</th>\n",
       "      <td>1121</td>\n",
       "      <td>162228</td>\n",
       "    </tr>\n",
       "    <tr>\n",
       "      <th>21</th>\n",
       "      <td>1122</td>\n",
       "      <td>201375</td>\n",
       "    </tr>\n",
       "    <tr>\n",
       "      <th>22</th>\n",
       "      <td>1123</td>\n",
       "      <td>155007</td>\n",
       "    </tr>\n",
       "    <tr>\n",
       "      <th>23</th>\n",
       "      <td>1124</td>\n",
       "      <td>145798</td>\n",
       "    </tr>\n",
       "    <tr>\n",
       "      <th>24</th>\n",
       "      <td>1125</td>\n",
       "      <td>165527</td>\n",
       "    </tr>\n",
       "    <tr>\n",
       "      <th>25</th>\n",
       "      <td>1126</td>\n",
       "      <td>168118</td>\n",
       "    </tr>\n",
       "    <tr>\n",
       "      <th>26</th>\n",
       "      <td>1127</td>\n",
       "      <td>189708</td>\n",
       "    </tr>\n",
       "    <tr>\n",
       "      <th>27</th>\n",
       "      <td>1128</td>\n",
       "      <td>204988</td>\n",
       "    </tr>\n",
       "    <tr>\n",
       "      <th>28</th>\n",
       "      <td>1129</td>\n",
       "      <td>191790</td>\n",
       "    </tr>\n",
       "    <tr>\n",
       "      <th>29</th>\n",
       "      <td>1130</td>\n",
       "      <td>163590</td>\n",
       "    </tr>\n",
       "    <tr>\n",
       "      <th>...</th>\n",
       "      <td>...</td>\n",
       "      <td>...</td>\n",
       "    </tr>\n",
       "    <tr>\n",
       "      <th>330</th>\n",
       "      <td>1431</td>\n",
       "      <td>195760</td>\n",
       "    </tr>\n",
       "    <tr>\n",
       "      <th>331</th>\n",
       "      <td>1432</td>\n",
       "      <td>159828</td>\n",
       "    </tr>\n",
       "    <tr>\n",
       "      <th>332</th>\n",
       "      <td>1433</td>\n",
       "      <td>156153</td>\n",
       "    </tr>\n",
       "    <tr>\n",
       "      <th>333</th>\n",
       "      <td>1434</td>\n",
       "      <td>189069</td>\n",
       "    </tr>\n",
       "    <tr>\n",
       "      <th>334</th>\n",
       "      <td>1435</td>\n",
       "      <td>183336</td>\n",
       "    </tr>\n",
       "    <tr>\n",
       "      <th>335</th>\n",
       "      <td>1436</td>\n",
       "      <td>190571</td>\n",
       "    </tr>\n",
       "    <tr>\n",
       "      <th>336</th>\n",
       "      <td>1437</td>\n",
       "      <td>158930</td>\n",
       "    </tr>\n",
       "    <tr>\n",
       "      <th>337</th>\n",
       "      <td>1438</td>\n",
       "      <td>227515</td>\n",
       "    </tr>\n",
       "    <tr>\n",
       "      <th>338</th>\n",
       "      <td>1439</td>\n",
       "      <td>173960</td>\n",
       "    </tr>\n",
       "    <tr>\n",
       "      <th>339</th>\n",
       "      <td>1440</td>\n",
       "      <td>179634</td>\n",
       "    </tr>\n",
       "    <tr>\n",
       "      <th>340</th>\n",
       "      <td>1441</td>\n",
       "      <td>204526</td>\n",
       "    </tr>\n",
       "    <tr>\n",
       "      <th>341</th>\n",
       "      <td>1442</td>\n",
       "      <td>154478</td>\n",
       "    </tr>\n",
       "    <tr>\n",
       "      <th>342</th>\n",
       "      <td>1443</td>\n",
       "      <td>201818</td>\n",
       "    </tr>\n",
       "    <tr>\n",
       "      <th>343</th>\n",
       "      <td>1444</td>\n",
       "      <td>158729</td>\n",
       "    </tr>\n",
       "    <tr>\n",
       "      <th>344</th>\n",
       "      <td>1445</td>\n",
       "      <td>191026</td>\n",
       "    </tr>\n",
       "    <tr>\n",
       "      <th>345</th>\n",
       "      <td>1446</td>\n",
       "      <td>152033</td>\n",
       "    </tr>\n",
       "    <tr>\n",
       "      <th>346</th>\n",
       "      <td>1447</td>\n",
       "      <td>194552</td>\n",
       "    </tr>\n",
       "    <tr>\n",
       "      <th>347</th>\n",
       "      <td>1448</td>\n",
       "      <td>207353</td>\n",
       "    </tr>\n",
       "    <tr>\n",
       "      <th>348</th>\n",
       "      <td>1449</td>\n",
       "      <td>166175</td>\n",
       "    </tr>\n",
       "    <tr>\n",
       "      <th>349</th>\n",
       "      <td>1450</td>\n",
       "      <td>133957</td>\n",
       "    </tr>\n",
       "    <tr>\n",
       "      <th>350</th>\n",
       "      <td>1451</td>\n",
       "      <td>181059</td>\n",
       "    </tr>\n",
       "    <tr>\n",
       "      <th>351</th>\n",
       "      <td>1452</td>\n",
       "      <td>202110</td>\n",
       "    </tr>\n",
       "    <tr>\n",
       "      <th>352</th>\n",
       "      <td>1453</td>\n",
       "      <td>155048</td>\n",
       "    </tr>\n",
       "    <tr>\n",
       "      <th>353</th>\n",
       "      <td>1454</td>\n",
       "      <td>179226</td>\n",
       "    </tr>\n",
       "    <tr>\n",
       "      <th>354</th>\n",
       "      <td>1455</td>\n",
       "      <td>177095</td>\n",
       "    </tr>\n",
       "    <tr>\n",
       "      <th>355</th>\n",
       "      <td>1456</td>\n",
       "      <td>181650</td>\n",
       "    </tr>\n",
       "    <tr>\n",
       "      <th>356</th>\n",
       "      <td>1457</td>\n",
       "      <td>219396</td>\n",
       "    </tr>\n",
       "    <tr>\n",
       "      <th>357</th>\n",
       "      <td>1458</td>\n",
       "      <td>203830</td>\n",
       "    </tr>\n",
       "    <tr>\n",
       "      <th>358</th>\n",
       "      <td>1459</td>\n",
       "      <td>162159</td>\n",
       "    </tr>\n",
       "    <tr>\n",
       "      <th>359</th>\n",
       "      <td>1460</td>\n",
       "      <td>179231</td>\n",
       "    </tr>\n",
       "  </tbody>\n",
       "</table>\n",
       "<p>360 rows × 2 columns</p>\n",
       "</div>"
      ],
      "text/plain": [
       "       Id  SalePrice\n",
       "0    1101     127678\n",
       "1    1102     160530\n",
       "2    1103     167235\n",
       "3    1104     165249\n",
       "4    1105     156740\n",
       "5    1106     232590\n",
       "6    1107     183641\n",
       "7    1108     206468\n",
       "8    1109     182602\n",
       "9    1110     220043\n",
       "10   1111     177536\n",
       "11   1112     193441\n",
       "12   1113     152162\n",
       "13   1114     164649\n",
       "14   1115     151456\n",
       "15   1116     216380\n",
       "16   1117     163863\n",
       "17   1118     161218\n",
       "18   1119     176482\n",
       "19   1120     164650\n",
       "20   1121     162228\n",
       "21   1122     201375\n",
       "22   1123     155007\n",
       "23   1124     145798\n",
       "24   1125     165527\n",
       "25   1126     168118\n",
       "26   1127     189708\n",
       "27   1128     204988\n",
       "28   1129     191790\n",
       "29   1130     163590\n",
       "..    ...        ...\n",
       "330  1431     195760\n",
       "331  1432     159828\n",
       "332  1433     156153\n",
       "333  1434     189069\n",
       "334  1435     183336\n",
       "335  1436     190571\n",
       "336  1437     158930\n",
       "337  1438     227515\n",
       "338  1439     173960\n",
       "339  1440     179634\n",
       "340  1441     204526\n",
       "341  1442     154478\n",
       "342  1443     201818\n",
       "343  1444     158729\n",
       "344  1445     191026\n",
       "345  1446     152033\n",
       "346  1447     194552\n",
       "347  1448     207353\n",
       "348  1449     166175\n",
       "349  1450     133957\n",
       "350  1451     181059\n",
       "351  1452     202110\n",
       "352  1453     155048\n",
       "353  1454     179226\n",
       "354  1455     177095\n",
       "355  1456     181650\n",
       "356  1457     219396\n",
       "357  1458     203830\n",
       "358  1459     162159\n",
       "359  1460     179231\n",
       "\n",
       "[360 rows x 2 columns]"
      ]
     },
     "execution_count": 114,
     "metadata": {},
     "output_type": "execute_result"
    }
   ],
   "source": [
    "df"
   ]
  },
  {
   "cell_type": "markdown",
   "metadata": {},
   "source": [
    "## Using Gradient Boosting"
   ]
  },
  {
   "cell_type": "code",
   "execution_count": 115,
   "metadata": {},
   "outputs": [],
   "source": [
    "from sklearn.ensemble import GradientBoostingRegressor"
   ]
  },
  {
   "cell_type": "code",
   "execution_count": 116,
   "metadata": {},
   "outputs": [],
   "source": [
    "gb_reg = GradientBoostingRegressor(learning_rate=0.1,n_estimators=500,max_features=10)"
   ]
  },
  {
   "cell_type": "code",
   "execution_count": 117,
   "metadata": {},
   "outputs": [
    {
     "data": {
      "text/plain": [
       "GradientBoostingRegressor(alpha=0.9, criterion='friedman_mse', init=None,\n",
       "             learning_rate=0.1, loss='ls', max_depth=3, max_features=10,\n",
       "             max_leaf_nodes=None, min_impurity_decrease=0.0,\n",
       "             min_impurity_split=None, min_samples_leaf=1,\n",
       "             min_samples_split=2, min_weight_fraction_leaf=0.0,\n",
       "             n_estimators=500, n_iter_no_change=None, presort='auto',\n",
       "             random_state=None, subsample=1.0, tol=0.0001,\n",
       "             validation_fraction=0.1, verbose=0, warm_start=False)"
      ]
     },
     "execution_count": 117,
     "metadata": {},
     "output_type": "execute_result"
    }
   ],
   "source": [
    "gb_reg.fit(x_train,y_train)"
   ]
  },
  {
   "cell_type": "code",
   "execution_count": 118,
   "metadata": {},
   "outputs": [],
   "source": [
    "hyp2 = gb_reg.predict(x_test).reshape(-1,1)"
   ]
  },
  {
   "cell_type": "code",
   "execution_count": 119,
   "metadata": {},
   "outputs": [],
   "source": [
    "result2 = np.hstack((ids,hyp2))\n",
    "result2 = result2.astype('int64')"
   ]
  },
  {
   "cell_type": "code",
   "execution_count": 120,
   "metadata": {},
   "outputs": [],
   "source": [
    "df = pd.DataFrame(result2,columns=['Id','SalePrice'])"
   ]
  },
  {
   "cell_type": "code",
   "execution_count": 121,
   "metadata": {},
   "outputs": [],
   "source": [
    "df.to_csv(\"./Dataset/submission2.csv\",index=False)"
   ]
  },
  {
   "cell_type": "markdown",
   "metadata": {},
   "source": [
    "## Using Decision Tree"
   ]
  },
  {
   "cell_type": "code",
   "execution_count": 122,
   "metadata": {},
   "outputs": [],
   "source": [
    "from sklearn.tree import DecisionTreeRegressor"
   ]
  },
  {
   "cell_type": "code",
   "execution_count": 123,
   "metadata": {},
   "outputs": [],
   "source": [
    "dt_reg = DecisionTreeRegressor()"
   ]
  },
  {
   "cell_type": "code",
   "execution_count": 124,
   "metadata": {},
   "outputs": [
    {
     "data": {
      "text/plain": [
       "DecisionTreeRegressor(criterion='mse', max_depth=None, max_features=None,\n",
       "           max_leaf_nodes=None, min_impurity_decrease=0.0,\n",
       "           min_impurity_split=None, min_samples_leaf=1,\n",
       "           min_samples_split=2, min_weight_fraction_leaf=0.0,\n",
       "           presort=False, random_state=None, splitter='best')"
      ]
     },
     "execution_count": 124,
     "metadata": {},
     "output_type": "execute_result"
    }
   ],
   "source": [
    "dt_reg.fit(x_train,y_train)"
   ]
  },
  {
   "cell_type": "code",
   "execution_count": 125,
   "metadata": {},
   "outputs": [],
   "source": [
    "hyp3 = dt_reg.predict(x_test).reshape(-1,1)"
   ]
  },
  {
   "cell_type": "code",
   "execution_count": 126,
   "metadata": {},
   "outputs": [],
   "source": [
    "result3 = np.hstack((ids,hyp3))\n",
    "result3 = result3.astype('int64')"
   ]
  },
  {
   "cell_type": "code",
   "execution_count": 127,
   "metadata": {},
   "outputs": [],
   "source": [
    "df = pd.DataFrame(result3,columns=['Id','SalePrice'])"
   ]
  },
  {
   "cell_type": "code",
   "execution_count": 128,
   "metadata": {},
   "outputs": [],
   "source": [
    "df.to_csv(\"./Dataset/submission3.csv\",index=False)"
   ]
  },
  {
   "cell_type": "markdown",
   "metadata": {},
   "source": [
    "## Using Random Forest Regressor"
   ]
  },
  {
   "cell_type": "code",
   "execution_count": 129,
   "metadata": {},
   "outputs": [],
   "source": [
    "from sklearn.ensemble import RandomForestRegressor"
   ]
  },
  {
   "cell_type": "code",
   "execution_count": 130,
   "metadata": {},
   "outputs": [],
   "source": [
    "rf_reg = RandomForestRegressor(n_estimators=100)"
   ]
  },
  {
   "cell_type": "code",
   "execution_count": 131,
   "metadata": {},
   "outputs": [
    {
     "data": {
      "text/plain": [
       "RandomForestRegressor(bootstrap=True, criterion='mse', max_depth=None,\n",
       "           max_features='auto', max_leaf_nodes=None,\n",
       "           min_impurity_decrease=0.0, min_impurity_split=None,\n",
       "           min_samples_leaf=1, min_samples_split=2,\n",
       "           min_weight_fraction_leaf=0.0, n_estimators=100, n_jobs=None,\n",
       "           oob_score=False, random_state=None, verbose=0, warm_start=False)"
      ]
     },
     "execution_count": 131,
     "metadata": {},
     "output_type": "execute_result"
    }
   ],
   "source": [
    "rf_reg.fit(x_train,y_train)"
   ]
  },
  {
   "cell_type": "code",
   "execution_count": 132,
   "metadata": {},
   "outputs": [],
   "source": [
    "hyp4 = rf_reg.predict(x_test).reshape(-1,1)"
   ]
  },
  {
   "cell_type": "code",
   "execution_count": 133,
   "metadata": {},
   "outputs": [],
   "source": [
    "result4 = np.hstack((ids,hyp4))\n",
    "result4 = result4.astype('int64')"
   ]
  },
  {
   "cell_type": "code",
   "execution_count": 134,
   "metadata": {},
   "outputs": [],
   "source": [
    "df = pd.DataFrame(result4,columns=['Id','SalePrice'])"
   ]
  },
  {
   "cell_type": "code",
   "execution_count": 135,
   "metadata": {},
   "outputs": [],
   "source": [
    "df.to_csv(\"./Dataset/submission4.csv\",index=False)"
   ]
  },
  {
   "cell_type": "code",
   "execution_count": null,
   "metadata": {},
   "outputs": [],
   "source": []
  }
 ],
 "metadata": {
  "kernelspec": {
   "display_name": "Python 3",
   "language": "python",
   "name": "python3"
  },
  "language_info": {
   "codemirror_mode": {
    "name": "ipython",
    "version": 3
   },
   "file_extension": ".py",
   "mimetype": "text/x-python",
   "name": "python",
   "nbconvert_exporter": "python",
   "pygments_lexer": "ipython3",
   "version": "3.7.5"
  }
 },
 "nbformat": 4,
 "nbformat_minor": 2
}
